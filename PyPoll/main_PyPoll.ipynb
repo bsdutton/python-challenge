{
 "cells": [
  {
   "cell_type": "code",
   "execution_count": 1,
   "metadata": {},
   "outputs": [],
   "source": [
    "# Get dependencies\n",
    "import os\n",
    "import csv\n",
    "from collections import Counter"
   ]
  },
  {
   "cell_type": "code",
   "execution_count": 2,
   "metadata": {},
   "outputs": [],
   "source": [
    "# Path to collect data from the Resources folder\n",
    "csv_path = os.path.join('..', 'PyPoll/Resources', 'election_data.csv')"
   ]
  },
  {
   "cell_type": "code",
   "execution_count": 3,
   "metadata": {},
   "outputs": [],
   "source": [
    "# Read the csv with DictReader to get Header Row as dictionary key-value references\n",
    "\n",
    "with open(csv_path) as csvfile:\n",
    "    vote_reader = csv.DictReader(csvfile, delimiter=',')\n",
    "    count_Candidate = {}\n",
    "\n",
    "# Count the the number of times each Candidate is duplicated in \"Candidate\" column\n",
    "\n",
    "    for row in vote_reader:\n",
    "        entry = dict(row)\n",
    "        if entry['Candidate'] in count_Candidate:\n",
    "            count_Candidate[entry['Candidate']] +=1\n",
    "        else:\n",
    "            count_Candidate[entry['Candidate']] = 1\n",
    "\n",
    "# while with the new dictionary, sort it using Lambda function and then apply reverse sort to show winner first\n",
    "\n",
    "    sorted_Candidate = dict(sorted(count_Candidate.items(), key=lambda val:val[1], reverse=True))\n",
    " \n",
    "# get list of dictionaries and find total votes\n",
    "\n",
    "    vote_rows = []\n",
    "    with open(csv_path) as csvfile:\n",
    "        vote_reader = csv.DictReader(csvfile, delimiter=',')\n",
    "        for row in vote_reader:\n",
    "            vote_rows.append(row)\n",
    "    total_votes = len(vote_rows)\n",
    "\n",
    " # use dictionary comprehension to specify winner from sorted dictionary\n",
    "\n",
    "winner = [key for key in sorted_Candidate.keys()][0]"
   ]
  },
  {
   "cell_type": "code",
   "execution_count": 4,
   "metadata": {},
   "outputs": [
    {
     "name": "stdout",
     "output_type": "stream",
     "text": [
      "Election Results\n",
      "-----------------------------------\n",
      "Total Votes: 369711\n",
      "-----------------------------------\n",
      "\n",
      "Diana DeGette: 73.81% with (272892) votes\n",
      "Charles Casper Stockham: 23.05% with (85213) votes\n",
      "Raymon Anthony Doane: 3.14% with (11606) votes\n",
      "\n",
      "-----------------------------------\n",
      "Winner: Diana DeGette\n",
      "-----------------------------------\n",
      "\n"
     ]
    }
   ],
   "source": [
    "# f-strings for output to terminal\n",
    "message1 = (f\"Election Results\\n\"\n",
    "f\"-----------------------------------\\n\"\n",
    "f\"Total Votes: {total_votes}\\n\"\n",
    "f\"-----------------------------------\\n\")\n",
    "print(message1)\n",
    "\n",
    "# use loop through dictionary to find percentages and round them to two decimal places\n",
    "\n",
    "for k, v in sorted_Candidate.items():\n",
    "    percent = []\n",
    "    percent = round(((int(v)/total_votes)*100), 2)\n",
    "    results_summary = (f'{k}: {percent}% with ({v}) votes')\n",
    "    print(results_summary)\n",
    "\n",
    "\n",
    "message2 = (f\"\\n\"\n",
    "f\"-----------------------------------\\n\"\n",
    "f\"Winner: {winner}\\n\"\n",
    "f\"-----------------------------------\\n\")\n",
    "print(message2)"
   ]
  },
  {
   "cell_type": "code",
   "execution_count": 5,
   "metadata": {},
   "outputs": [],
   "source": [
    "# Path to write text file into the \"analysis\" folder\n",
    "output_path = os.path.join('..', 'PyPoll/analysis', 'election_results.txt')\n"
   ]
  },
  {
   "cell_type": "code",
   "execution_count": 6,
   "metadata": {},
   "outputs": [],
   "source": [
    "# Write to the txt file:\n",
    "with open(output_path, 'w+') as txtfile:\n",
    "    # Use print to output file so loop can be repeated for output into text file\n",
    "    print(message1, file=txtfile)\n",
    "    for k, v in sorted_Candidate.items():\n",
    "        percent = []\n",
    "        percent = round(((int(v)/total_votes)*100), 2)\n",
    "        results_summary = (f'{k}: {percent}% with ({v}) votes')\n",
    "        print(results_summary, file=txtfile)\n",
    "    print(message2, file=txtfile)\n",
    "    txtfile.close()"
   ]
  }
 ],
 "metadata": {
  "interpreter": {
   "hash": "05e93dc6f4b40ed308aaec00c8196c9e66e08e848d1d5e061aaaa00cf4e3efac"
  },
  "kernelspec": {
   "display_name": "Python 3 (ipykernel)",
   "language": "python",
   "name": "python3"
  },
  "language_info": {
   "codemirror_mode": {
    "name": "ipython",
    "version": 3
   },
   "file_extension": ".py",
   "mimetype": "text/x-python",
   "name": "python",
   "nbconvert_exporter": "python",
   "pygments_lexer": "ipython3",
   "version": "3.9.7"
  }
 },
 "nbformat": 4,
 "nbformat_minor": 2
}
