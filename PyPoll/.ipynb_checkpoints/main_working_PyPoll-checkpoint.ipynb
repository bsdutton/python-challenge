{
 "cells": [
  {
   "cell_type": "code",
   "execution_count": 1,
   "metadata": {},
   "outputs": [],
   "source": [
    "# Get dependencies\n",
    "import os\n",
    "import csv\n",
    "from collections import Counter\n",
    "import sys"
   ]
  },
  {
   "cell_type": "code",
   "execution_count": 2,
   "metadata": {},
   "outputs": [],
   "source": [
    "#os.getcwd()   # to see current path\n",
    "# output - '/Users/sheridutton/Documents/GitHub/python-challenge/PyPoll'"
   ]
  },
  {
   "cell_type": "code",
   "execution_count": 3,
   "metadata": {},
   "outputs": [],
   "source": [
    "#os.listdir()  # to list current directory   # output - ['main.ipynb', '.DS_Store', 'analysis', 'Resources', 'main.py']"
   ]
  },
  {
   "cell_type": "code",
   "execution_count": 4,
   "metadata": {},
   "outputs": [],
   "source": [
    "# Path to collect data from the Resources folder\n",
    "# csv_path = os.path.join('/Users/sheridutton/Documents/GitHub/python-challenge/PyPoll', 'Resources', 'budget_data.csv')\n",
    "csv_path = os.path.join('..', 'PyPoll/Resources', 'election_data.csv')\n",
    "# csv_path      # to confirm path # output - '../PyPoll/Resources/election_data.csv'"
   ]
  },
  {
   "cell_type": "code",
   "execution_count": 5,
   "metadata": {},
   "outputs": [
    {
     "name": "stdout",
     "output_type": "stream",
     "text": [
      "Election Results\n",
      "-----------------------------------\n",
      "Total Votes: 369711\n",
      "-----------------------------------\n",
      "\n",
      "Diana DeGette: 73.81% with (272892) votes\n",
      "Charles Casper Stockham: 23.05% with (85213) votes\n",
      "Raymon Anthony Doane: 3.14% with (11606) votes\n",
      "\n",
      "-----------------------------------\n",
      "Winner: Diana DeGette\n",
      "-----------------------------------\n",
      "\n"
     ]
    }
   ],
   "source": [
    "# code block using dictionaries\n",
    "# Read the csv and skip the Header row and get a list for the rest of the rows\n",
    "\n",
    "with open(csv_path) as csvfile:\n",
    "    vote_reader = csv.DictReader(csvfile, delimiter=',')\n",
    "    count_Candidate = {}\n",
    "    # header = next(vote_reader)\n",
    "    for row in vote_reader:\n",
    "        entry = dict(row)\n",
    "        if entry['Candidate'] in count_Candidate:\n",
    "            count_Candidate[entry['Candidate']] +=1\n",
    "        else:\n",
    "            count_Candidate[entry['Candidate']] = 1\n",
    "    # print(count_Candidate)     # output = {'Charles Casper Stockham': 85213, 'Diana DeGette': 272892, 'Raymon Anthony Doane': 11606}\n",
    "    # print(list(count_Candidate))     # output = ['Charles Casper Stockham', 'Diana DeGette', 'Raymon Anthony Doane']\n",
    "    # print(count_Candidate.keys())     # output = dict_keys(['Charles Casper Stockham', 'Diana DeGette', 'Raymon Anthony Doane'])\n",
    "    # print(count_Candidate.values())     # output = dict_values([85213, 272892, 11606])\n",
    "    # print(sorted(count_Candidate.values()))     # output = [11606, 85213, 272892]\n",
    "    # print(count_Candidate.items())     # output = dict_items([('Charles Casper Stockham', 85213), ('Diana DeGette', 272892), ('Raymon Anthony Doane', 11606)])\n",
    "# info on dictionary items for sorting from:  https://towardsdatascience.com/sorting-a-dictionary-in-python-4280451e1637    \n",
    "    #sorted_Candidate = dict(sorted(count_Candidate.items(), key=lambda val:val[1]))\n",
    "    # print(sorted_Candidate)     # output = {'Raymon Anthony Doane': 11606, 'Charles Casper Stockham': 85213, 'Diana DeGette': 272892}\n",
    "    sorted_Candidate = dict(sorted(count_Candidate.items(), key=lambda val:val[1], reverse=True))\n",
    "    #print(sorted_Candidate)\n",
    "# for reverse sort:  https://docs.python.org/3/howto/sorting.html\n",
    "    \n",
    "    # for k,v in sorted_Candidate.items():\n",
    "        # percent = []\n",
    "        # percent = round(((int(v)/total_votes)*100), 2)\n",
    "        # results = []\n",
    "        # results_message = f'{k}: {percent}% with ({v}) votes'\n",
    "        # results.append(results_message)\n",
    "        # print(results)\n",
    "        # print(f'{k}: {percent}% with ({v}) votes')\n",
    "    \n",
    "    \n",
    "    # info on sorted dictionary:  https://pythonguides.com/python-dictionary-of-tuples/#:~:text=Python%20dictionary%20vs%20tuples,-The%20main%20difference&text=In%20Python%20dictionary%2C%20it%20is,and%20is%20represented%20by%20commas.\n",
    "    # percentages = {}\n",
    "    # def percent(sorted_Candidate):\n",
    "        # for val in sorted_Candidate.values():\n",
    "            # percentage = (round((int(val) / len(vote_rows)) * 100), 2)\n",
    "        # return(percentages)\n",
    "    # percent(sorted_Candidate)\n",
    "    # print(dict(percent(sorted_Candidate)))\n",
    "\n",
    "    # def count(vote_reader):\n",
    "        # count_dict = {Candidate:vote_reader.count(Candidate) for Candidate in vote_reader}\n",
    "        # return dict(sorted(count_dict.items(), key=lambda x:x[1]))\n",
    "        \n",
    "\n",
    "    vote_rows = []\n",
    "    with open(csv_path) as csvfile:\n",
    "        vote_reader = csv.DictReader(csvfile, delimiter=',')\n",
    "        for row in vote_reader:\n",
    "            vote_rows.append(row)\n",
    "    total_votes = len(vote_rows)\n",
    "    # print(total_votes)     # output = 369711\n",
    "    \n",
    "winner = [key for key in sorted_Candidate.keys()][0]\n",
    "    \n",
    "message1 = (f\"Election Results\\n\"\n",
    "f\"-----------------------------------\\n\"\n",
    "f\"Total Votes: {total_votes}\\n\"\n",
    "f\"-----------------------------------\\n\")\n",
    "print(message1)\n",
    "\n",
    "for k, v in sorted_Candidate.items():\n",
    "    percent = []\n",
    "    percent = round(((int(v)/total_votes)*100), 2)\n",
    "    print(f'{k}: {percent}% with ({v}) votes')\n",
    "\n",
    "# f\"{{k}: {percent}% with ({v}) votes\\n\"\n",
    "\n",
    "message2 = (f\"\\n\"\n",
    "f\"-----------------------------------\\n\"\n",
    "f\"Winner: {winner}\\n\"\n",
    "f\"-----------------------------------\\n\")\n",
    "print(message2)\n",
    "\n",
    "# information on this loop for count from: https://stackoverflow.com/questions/66405387/python-csv-file-and-dictionary-without-pandas\n",
    "# information on csvfiles from:  https://www.analyticsvidhya.com/blog/2021/08/python-tutorial-working-with-csv-file-for-data-science\n",
    "# print(sum(counter.values())\n",
    "    # print(header)     #output = ['Ballot ID', 'County', 'Candidate']\n",
    "    # print(len(vote_rows))     # output = 369711\n",
    "    # print(vote_rows[:10])     # output = [['1323913', 'Jefferson', 'Charles Casper Stockham'], ['1005842', 'Jefferson', 'Charles Casper Stockham'], ...\n",
    "    # print(type(header))     # output = <class 'list'>\n",
    "    # print(next(vote_reader)[:3])     # output = ['Ballot ID', 'County', 'Candidate']\n",
    "    # print(next(vote_reader)[1][:])     # output = County\n",
    "    # print(next(vote_reader)[0][:])     # output = Ballot ID\n",
    "    # print(next(vote_reader)[2][:])     # output = Candidate\n",
    "    # votes = list([int(x) for x in total_votes])\n",
    "    # great link for slices:  https://note.nkmk.me/en/python-slice-usage/\n",
    "# great link for list comprehension:  https://note.nkmk.me/en/python-list-comprehension/\n",
    "# link for informaton on COUNT - to count duplicates in a list:  https://tutorial.eyehunts.com/python/python-find-duplicates-in-a-list-and-count-them-example-code/#:~:text=If%20you%20want%20to%20count,and%20count%20them%20in%20Python.\n"
   ]
  },
  {
   "cell_type": "code",
   "execution_count": 8,
   "metadata": {},
   "outputs": [
    {
     "name": "stdout",
     "output_type": "stream",
     "text": [
      "Election Results\n",
      "-----------------------------------\n",
      "Total Votes: 369711\n",
      "-----------------------------------\n",
      "\n",
      "Diana DeGette: 73.81% with (272892) votes\n",
      "Charles Casper Stockham: 23.05% with (85213) votes\n",
      "Raymon Anthony Doane: 3.14% with (11606) votes\n",
      "\n",
      "-----------------------------------\n",
      "Winner: Diana DeGette\n",
      "-----------------------------------\n",
      "\n"
     ]
    }
   ],
   "source": [
    "# f-strings information from: https://realpython.com/python-f-strings/#multiline-f-strings\n",
    "# maximum line length information from: https://peps.python.org/pep-0008/#maximum-line-length\n",
    "message1 = (f\"Election Results\\n\"\n",
    "f\"-----------------------------------\\n\"\n",
    "f\"Total Votes: {total_votes}\\n\"\n",
    "f\"-----------------------------------\\n\")\n",
    "print(message1)\n",
    "\n",
    "for k, v in sorted_Candidate.items():\n",
    "    percent = []\n",
    "    percent = round(((int(v)/total_votes)*100), 2)\n",
    "    print(f'{k}: {percent}% with ({v}) votes')\n",
    "# f\"{{k}: {percent}% with ({v}) votes\\n\"\n",
    "\n",
    "message2 = (f\"\\n\"\n",
    "f\"-----------------------------------\\n\"\n",
    "f\"Winner: {winner}\\n\"\n",
    "f\"-----------------------------------\\n\")\n",
    "print(message2)"
   ]
  },
  {
   "cell_type": "code",
   "execution_count": null,
   "metadata": {},
   "outputs": [],
   "source": [
    "winner = [key for key in sorted_Candidate.keys()][0]\n",
    "print(winner)"
   ]
  },
  {
   "cell_type": "code",
   "execution_count": null,
   "metadata": {},
   "outputs": [],
   "source": [
    "# starting steps to write the analysis into its own CSV file.\n"
   ]
  },
  {
   "cell_type": "code",
   "execution_count": null,
   "metadata": {},
   "outputs": [],
   "source": [
    "# Path to write text file into the \"analysis\" folder\n",
    "output_path = os.path.join('..', 'PyPoll/analysis', 'election_results.txt')\n",
    "output_path      # to confirm path # output - '../PyBank/Resources/budget_data.csv'"
   ]
  },
  {
   "cell_type": "code",
   "execution_count": null,
   "metadata": {},
   "outputs": [],
   "source": [
    "# Write the txt file:\n",
    "with open(output_path, 'w+') as txtfile:\n",
    "    # Initialize txt.writer\n",
    "    txtfile.write(message1)\n",
    "    for k, v in sorted_Candidates.items():\n",
    "        txtfile.writelines(f'{k}: {percent}% with ({v}) votes')\n",
    "    txtfile.write(message2)\n",
    "    txtfile.close()"
   ]
  },
  {
   "cell_type": "code",
   "execution_count": null,
   "metadata": {
    "scrolled": true
   },
   "outputs": [],
   "source": [
    "# Information on writing text files from \n",
    "# https://www.geeksforgeeks.org/reading-writing-text-files-python/\n"
   ]
  },
  {
   "cell_type": "code",
   "execution_count": null,
   "metadata": {},
   "outputs": [],
   "source": [
    "        # L1 = [\"'''\"]\n",
    "\n",
    "        # results = [\"Total Profits were $\", sum(profits) \\n, \"Average Profit Change was $\", round(average(subtotals),2) \\n,\"Greatest Increase in Profits was $\", max(subtot(profits)), \", which occurred between \", months[78], \" and \", months[79] \\n,\"Greatest Decrease in Profits was $\", min(subtot(profits)), \", which occurred between \", months[48], \" and \", months[49] ]\n",
    "        # L6 = [\"'''\"]\n",
    "# with open(output_path, 'w+') as txtfile:\n",
    "    # txtfile.writelines(results)\n",
    "    # txtfile.writelines(L2)\n",
    "    # txtfile.writelines(L3)\n",
    "    # txtfile.writelines(L4)\n",
    "    # txtfile.writelines(L5)\n",
    "    # txtfile.writelines(L6)"
   ]
  },
  {
   "cell_type": "code",
   "execution_count": null,
   "metadata": {},
   "outputs": [],
   "source": []
  },
  {
   "cell_type": "code",
   "execution_count": null,
   "metadata": {},
   "outputs": [],
   "source": []
  }
 ],
 "metadata": {
  "interpreter": {
   "hash": "05e93dc6f4b40ed308aaec00c8196c9e66e08e848d1d5e061aaaa00cf4e3efac"
  },
  "kernelspec": {
   "display_name": "Python 3 (ipykernel)",
   "language": "python",
   "name": "python3"
  },
  "language_info": {
   "codemirror_mode": {
    "name": "ipython",
    "version": 3
   },
   "file_extension": ".py",
   "mimetype": "text/x-python",
   "name": "python",
   "nbconvert_exporter": "python",
   "pygments_lexer": "ipython3",
   "version": "3.9.7"
  }
 },
 "nbformat": 4,
 "nbformat_minor": 2
}
