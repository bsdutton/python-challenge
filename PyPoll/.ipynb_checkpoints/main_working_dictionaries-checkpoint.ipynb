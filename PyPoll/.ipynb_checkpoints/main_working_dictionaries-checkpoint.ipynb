{
 "cells": [
  {
   "cell_type": "code",
   "execution_count": 221,
   "metadata": {},
   "outputs": [],
   "source": [
    "# Get dependencies\n",
    "import os\n",
    "import csv\n",
    "from collections import ChainMap\n",
    "from functools import reduce"
   ]
  },
  {
   "cell_type": "code",
   "execution_count": 222,
   "metadata": {},
   "outputs": [],
   "source": [
    "#os.getcwd()   # to see current path\n",
    "# output - '/Users/sheridutton/Documents/GitHub/python-challenge/PyPoll'"
   ]
  },
  {
   "cell_type": "code",
   "execution_count": 223,
   "metadata": {},
   "outputs": [],
   "source": [
    "#os.listdir()  # to list current directory   # output - ['main.ipynb', '.DS_Store', 'analysis', 'Resources', 'main.py']"
   ]
  },
  {
   "cell_type": "code",
   "execution_count": 224,
   "metadata": {},
   "outputs": [],
   "source": [
    "# Path to collect data from the Resources folder\n",
    "# csv_path = os.path.join('/Users/sheridutton/Documents/GitHub/python-challenge/PyPoll', 'Resources', 'budget_data.csv')\n",
    "csv_path = os.path.join('..', 'PyPoll/Resources', 'election_data.csv')\n",
    "# csv_path      # to confirm path # output - '../PyPoll/Resources/election_data.csv'"
   ]
  },
  {
   "cell_type": "code",
   "execution_count": 243,
   "metadata": {},
   "outputs": [],
   "source": [
    "# code block using dictionaries\n",
    "# Read the csv and skip the Header row and get a list for the rest of the rows\n",
    "\n",
    "with open(csv_path) as csvfile:\n",
    "    vote_rows = []\n",
    "    vote_dict_reader = csv.DictReader(csvfile, delimiter=',')\n",
    "    header = next(vote_dict_reader)\n",
    "    for row in vote_dict_reader:\n",
    "        vote_rows.append(row)\n",
    "    # print(vote_rows[-1])     # output = {'Ballot ID': '4660518', 'County': 'Arapahoe', 'Candidate': 'Raymon Anthony Doane'}\n",
    "    # print(vote_rows[-2])     # output = {'Ballot ID': '4592018', 'County': 'Arapahoe', 'Candidate': 'Raymon Anthony Doane'}\n",
    "    # print(vote_rows[369709])     # output = {'Ballot ID': '4592018', 'County': 'Arapahoe', 'Candidate': 'Raymon Anthony Doane'}\n",
    "    # print(vote_rows[369708])     # output = {'Ballot ID': '4592018', 'County': 'Arapahoe', 'Candidate': 'Raymon Anthony Doane'}\n",
    "    # print(vote_rows[1:5])     # output = {'Ballot ID': '4592018', 'County': 'Arapahoe', 'Candidate': 'Raymon Anthony Doane'}\n",
    "    # print(len(vote_rows))     # output = 369710\n",
    "\n",
    "    # vote_dict = {}\n",
    "    # for i in vote_rows:\n",
    "        # vote_dict.update(i)\n",
    "    # print(vote_dict)   \n",
    "# from collections import ChainMap\n",
    "    # vote_dict = {}   # worked\n",
    "    # for i in vote_rows:  # worked\n",
    "        # vote_dict.update(i)  # worked\n",
    "    # print(vote_dict)     # output = single dictionary\n",
    "\n",
    "    # vote_dict = {str(k).replace(\" \",\"_\"):v for list_item in vote_rows for (k,v) in list_item.items()}\n",
    "   \n",
    "    # print(len(vote_dict))     # output = 3\n",
    "    # print(vote_dict)     # output = {'Ballot ID': '4660518', 'County': 'Arapahoe', 'Candidate': 'Raymon Anthony Doane'}\n",
    "    # qty_items = list(vote_dict.items())[0][1]\n",
    "    # print(f'Quantity of items in vote_dict: {qty_items}.')     # output - 4660518\n",
    "    # qty_values = list(vote_dict.values())[0]\n",
    "    # print(f'Quantity of values in vote_dict: {qty_values}.')     # output - 4660518\n",
    "    # first_value = next(iter(vote_dict.items()))[101]\n",
    "    # print(f'First Value in vote_dict: {first_value}.')     # output - 4660518\n",
    "    \n",
    "    \n",
    "    \n",
    "    # for row in vote_rows:\n",
    "        # def check_duplicates(vote_rows):\n",
    "            # dup_list = []\n",
    "            # for Candidate in vote_rows:\n",
    "                # if vote_rows.count(Candidate)>1:\n",
    "                    # dup_list.append(Candidate)\n",
    "            # return dup_list\n",
    "        \n",
    "# check_duplicates(vote_rows)\n",
    "# print(dup_list)\n",
    "\n",
    "        # print(f'\\t{row[\"Ballot ID\"]})\n",
    "        \n",
    "        # for rows in vote_rows:\n",
    "            # vote_dict = {vote_rows}\n",
    "        # vote_dict.update(vote_rows)\n",
    "        # information on csvfiles with DictReader from:  https://thispointer.com/python-read-a-csv-file-line-by-line-with-or-without-header/\n",
    "        # print(header)     #output = {'Ballot ID': '1323913', 'County': 'Jefferson', 'Candidate': 'Charles Casper Stockham'}\n",
    "    # print(len(vote_rows))     # output = 369710\n",
    "    # print(vote_rows[:5])     # output = [{'Ballot ID': '1005842', 'County': 'Jefferson', 'Candidate': 'Charles Casper Stockham'}, {'Ballot ID': '1880345',...\n",
    "    # print(type(header))     # output = <class 'dict'>\n",
    "    # great link for slices:  https://note.nkmk.me/en/python-slice-usage/\n",
    "    # great link for list comprehension:  https://note.nkmk.me/en/python-list-comprehension/\n",
    "    # link for informaton on COUNT - to count duplicates in a list:  https://tutorial.eyehunts.com/python/python-find-duplicates-in-a-list-and-count-them-example-code/#:~:text=If%20you%20want%20to%20count,and%20count%20them%20in%20Python.\n",
    "    # print(vote_dict_reader)     # output - <csv.DictReader object at 0x7fdeb8710b20>\n",
    "# type(vote_rows)     # output = list\n",
    "    # ordered_vote_dict = list(vote_dict_reader)\n",
    "    # vote_dict_from_csv = dict(ordered_vote_dict)\n",
    "    \n"
   ]
  },
  {
   "cell_type": "code",
   "execution_count": 157,
   "metadata": {},
   "outputs": [],
   "source": [
    "# link used to help with starting to count within the dictionary: \n",
    "# https://www.geeksforgeeks.org/python-count-number-of-items-in-a-dictionary-value-that-is-a-list/\n",
    "# type(vote_dict_reader)     # output = csv.DictReader\n"
   ]
  },
  {
   "cell_type": "code",
   "execution_count": 74,
   "metadata": {},
   "outputs": [],
   "source": [
    "# print(type(profits[0])) # Output = <class 'int'>\n",
    "# print((profits[1] - profits[0]))    # output = -1443517\n",
    "# print((profits[10] - profits[9]))   # output = -1736491\n",
    "# print((profits[85] - profits[84]))  # output -224669\n",
    "# print((profits[len(profits)-1] - profits[len(profits)-2]))  # output = -224669 # len(profits)-1 is LAST!\n",
    "# Try function for subtotals\n",
    "# profits = list([int(x) for x in profit_loss])       \n",
    "# def subtot(profits):\n",
    "    #count = 0\n",
    "    # subtotals = []\n",
    "    # for i in range(0,len(profits)-1):\n",
    "        # p = profits[i]\n",
    "        # q = profits[i+1]\n",
    "        # r = q - p\n",
    "        #subtotals = []\n",
    "        #for val in profits:\n",
    "        #subtotals.append(r)\n",
    "        #count = count + 1\n",
    "        #yield(subtotals)\n",
    "        # yield(r)\n",
    "        # subtotals.append(r)\n",
    "# print(list(subtot(profits)))\n",
    "# subtot  # output = function __main__.subtot(profits)>"
   ]
  },
  {
   "cell_type": "code",
   "execution_count": 8,
   "metadata": {},
   "outputs": [
    {
     "name": "stdout",
     "output_type": "stream",
     "text": [
      "1862002\n"
     ]
    }
   ],
   "source": [
    "print(max(subtot(profits)))\n"
   ]
  },
  {
   "cell_type": "code",
   "execution_count": 9,
   "metadata": {},
   "outputs": [
    {
     "name": "stdout",
     "output_type": "stream",
     "text": [
      "-1825558\n"
     ]
    }
   ],
   "source": [
    "print(min(subtot(profits)))"
   ]
  },
  {
   "cell_type": "code",
   "execution_count": 10,
   "metadata": {},
   "outputs": [
    {
     "name": "stdout",
     "output_type": "stream",
     "text": [
      "[-1443517, 631156, -1004755, 1581126, -289272, -1098929, 1167557, -806093, 1124485, -1736491, -408383, 604557, -294345, 1327485, 394323, 243585, -617439, -1530577, 1390390, -1130397, 1293604, 641758, -337413, -52031, -937192, 863841, -76245, -100481, -960729, 591856, 54930, 680102, -250254, -840415, 582358, -48628, -135256, 978586, -599210, -442789, 652924, -1005714, 1167373, -234900, -165147, -52275, -302320, 719028, -1825558, 1287083, -48303, 210234, -236414, 585165, -1400632, 839777, 465229, 317811, -760202, -71868, 795457, -182685, -1242836, 1371884, -445193, 10025, -1043998, 1350395, 80538, -1223250, 104148, 843924, -1808664, 1505005, 306402, -143603, -1266937, -162519, 1862002, -52986, -1627245, 616795, 628522, 90895, -224669]\n"
     ]
    }
   ],
   "source": [
    "subtotals = list(subtot(profits))\n",
    "print(subtotals)"
   ]
  },
  {
   "cell_type": "code",
   "execution_count": 11,
   "metadata": {},
   "outputs": [
    {
     "name": "stdout",
     "output_type": "stream",
     "text": [
      "78\n"
     ]
    }
   ],
   "source": [
    "# Information on index from https://www.guru99.com/python-list-index.html\n",
    "print(subtotals.index(max(subtotals)))"
   ]
  },
  {
   "cell_type": "code",
   "execution_count": 12,
   "metadata": {},
   "outputs": [
    {
     "name": "stdout",
     "output_type": "stream",
     "text": [
      "48\n"
     ]
    }
   ],
   "source": [
    "print(subtotals.index(min(subtotals)))"
   ]
  },
  {
   "cell_type": "code",
   "execution_count": 13,
   "metadata": {},
   "outputs": [
    {
     "name": "stdout",
     "output_type": "stream",
     "text": [
      "['Jan-10', 'Feb-10', 'Mar-10', 'Apr-10', 'May-10', 'Jun-10', 'Jul-10', 'Aug-10', 'Sep-10', 'Oct-10', 'Nov-10', 'Dec-10', 'Jan-11', 'Feb-11', 'Mar-11', 'Apr-11', 'May-11', 'Jun-11', 'Jul-11', 'Aug-11', 'Sep-11', 'Oct-11', 'Nov-11', 'Dec-11', 'Jan-12', 'Feb-12', 'Mar-12', 'Apr-12', 'May-12', 'Jun-12', 'Jul-12', 'Aug-12', 'Sep-12', 'Oct-12', 'Nov-12', 'Dec-12', 'Jan-13', 'Feb-13', 'Mar-13', 'Apr-13', 'May-13', 'Jun-13', 'Jul-13', 'Aug-13', 'Sep-13', 'Oct-13', 'Nov-13', 'Dec-13', 'Jan-14', 'Feb-14', 'Mar-14', 'Apr-14', 'May-14', 'Jun-14', 'Jul-14', 'Aug-14', 'Sep-14', 'Oct-14', 'Nov-14', 'Dec-14', 'Jan-15', 'Feb-15', 'Mar-15', 'Apr-15', 'May-15', 'Jun-15', 'Jul-15', 'Aug-15', 'Sep-15', 'Oct-15', 'Nov-15', 'Dec-15', 'Jan-16', 'Feb-16', 'Mar-16', 'Apr-16', 'May-16', 'Jun-16', 'Jul-16', 'Aug-16', 'Sep-16', 'Oct-16', 'Nov-16', 'Dec-16', 'Jan-17', 'Feb-17']\n"
     ]
    }
   ],
   "source": [
    "months = list(budget.keys())\n",
    "print(months)"
   ]
  },
  {
   "cell_type": "code",
   "execution_count": 14,
   "metadata": {},
   "outputs": [
    {
     "name": "stdout",
     "output_type": "stream",
     "text": [
      "Jul-16\n"
     ]
    }
   ],
   "source": [
    "print(months[78])"
   ]
  },
  {
   "cell_type": "code",
   "execution_count": 15,
   "metadata": {},
   "outputs": [
    {
     "name": "stdout",
     "output_type": "stream",
     "text": [
      "Jan-14\n"
     ]
    }
   ],
   "source": [
    "print(months[48])"
   ]
  },
  {
   "cell_type": "code",
   "execution_count": 16,
   "metadata": {},
   "outputs": [
    {
     "name": "stdout",
     "output_type": "stream",
     "text": [
      "-1825558\n"
     ]
    }
   ],
   "source": [
    "print((profits[49] - profits[48]))"
   ]
  },
  {
   "cell_type": "code",
   "execution_count": 17,
   "metadata": {},
   "outputs": [
    {
     "name": "stdout",
     "output_type": "stream",
     "text": [
      "1862002\n"
     ]
    }
   ],
   "source": [
    "print((profits[79] - profits[78]))"
   ]
  },
  {
   "cell_type": "code",
   "execution_count": 35,
   "metadata": {},
   "outputs": [
    {
     "name": "stdout",
     "output_type": "stream",
     "text": [
      "22564198\n"
     ]
    }
   ],
   "source": [
    "print(sum(profits))"
   ]
  },
  {
   "cell_type": "code",
   "execution_count": 19,
   "metadata": {},
   "outputs": [],
   "source": [
    "# Define function to get Average for Profit/Loss\n",
    "# def average_of_profit(profit_loss):\n",
    "    # length = len(budget)\n",
    "    # total = 0\n",
    "    # for val in profit_loss:\n",
    "        # total = total + int(val)\n",
    "    # return(total / length)\n",
    "# print(round(average_of_profit(profit_loss),3))    # Output 262374.395\n",
    "# Information of Functions found at the following site:\n",
    "# https://www.educative.io/edpresso/how-to-compute-the-sum-of-a-list-in-python\n"
   ]
  },
  {
   "cell_type": "code",
   "execution_count": 26,
   "metadata": {},
   "outputs": [
    {
     "name": "stdout",
     "output_type": "stream",
     "text": [
      "The average monthly profit was actually a loss of $-8311.11.\n"
     ]
    }
   ],
   "source": [
    "# Average of profits using function above\n",
    "def average(subtotals):\n",
    "    l = len(subtotals)\n",
    "    total_profits = 0\n",
    "    for val in subtotals:\n",
    "        total_profits = total_profits + val\n",
    "    return(total_profits / l)\n",
    "print(f\"The average monthly profit was actually a loss of ${round(average(subtotals),2)}.\")"
   ]
  },
  {
   "cell_type": "code",
   "execution_count": 33,
   "metadata": {
    "scrolled": true
   },
   "outputs": [
    {
     "data": {
      "text/plain": [
       "'The greatest increase in monthly profits was $1862002, and it occured Jul-16.  The greatest decrease in monthly profits was $-1825558, and it occured Jan-14.'"
      ]
     },
     "execution_count": 33,
     "metadata": {},
     "output_type": "execute_result"
    }
   ],
   "source": [
    "message = f\"The greatest increase in monthly profits was ${max(subtot(profits))}, and it occured {months[subtotals.index(max(subtotals))]}.  \" \\\n",
    "f\"The greatest decrease in monthly profits was ${min(subtot(profits))}, and it occured {months[subtotals.index(min(subtotals))]}.\" \n",
    "message"
   ]
  },
  {
   "cell_type": "code",
   "execution_count": 36,
   "metadata": {},
   "outputs": [
    {
     "data": {
      "text/plain": [
       "'There were 86 months of profits/loss used in this Budget Analysis.  The total of all Profits/Loss over this time period was $22564198.'"
      ]
     },
     "execution_count": 36,
     "metadata": {},
     "output_type": "execute_result"
    }
   ],
   "source": [
    "message = f\"There were {len(budget)} months of profits/loss used in this Budget Analysis.  \" \\\n",
    "f\"The total of all Profits/Loss over this time period was ${sum(profits)}.\"\n",
    "message"
   ]
  },
  {
   "cell_type": "code",
   "execution_count": null,
   "metadata": {},
   "outputs": [],
   "source": [
    "# starting steps to write the analysis into its own CSV file.\n"
   ]
  },
  {
   "cell_type": "code",
   "execution_count": 38,
   "metadata": {},
   "outputs": [
    {
     "data": {
      "text/plain": [
       "'../PyBank/analysis/analysis-results.txt'"
      ]
     },
     "execution_count": 38,
     "metadata": {},
     "output_type": "execute_result"
    }
   ],
   "source": [
    "# Path to write text file into the \"analysis\" folder\n",
    "output_path = os.path.join('..', 'PyBank/analysis', 'analysis-results.txt')\n",
    "output_path      # to confirm path # output - '../PyBank/Resources/budget_data.csv'"
   ]
  },
  {
   "cell_type": "code",
   "execution_count": 129,
   "metadata": {},
   "outputs": [],
   "source": [
    "# f-strings information from: https://realpython.com/python-f-strings/#multiline-f-strings\n",
    "# maximum line length information from: https://peps.python.org/pep-0008/#maximum-line-length\n",
    "message = (f\"Financial Analysis\\n\"\n",
    "f\"-----------------------------------\\n\"\n",
    "f\"Total Profits were ${sum(profits)}.\\n\"\n",
    "f\"Average Profit Change was ${round(average(subtotals),2)}.\\n\"\n",
    "f\"Greatest Increase in Profits was ${max(subtot(profits))} which occurred between {months[78]} and {months[79]}.\\n\"\n",
    "f\"Greatest Decrease in Profits was ${min(subtot(profits))} which occurred between {months[48]} and {months[49]}.\")\n",
    "\n"
   ]
  },
  {
   "cell_type": "code",
   "execution_count": 130,
   "metadata": {},
   "outputs": [],
   "source": [
    "# Write the txt file:\n",
    "with open(output_path, 'w+') as txtfile:\n",
    "    # Initialize txt.writer\n",
    "    txtfile.write(message)\n",
    "    txtfile.close()"
   ]
  },
  {
   "cell_type": "code",
   "execution_count": 125,
   "metadata": {},
   "outputs": [],
   "source": [
    "# Information on writing text files from \n",
    "# https://www.geeksforgeeks.org/reading-writing-text-files-python/\n"
   ]
  },
  {
   "cell_type": "code",
   "execution_count": 126,
   "metadata": {},
   "outputs": [],
   "source": [
    "        # L1 = [\"'''\"]\n",
    "\n",
    "        # results = [\"Total Profits were $\", sum(profits) \\n, \"Average Profit Change was $\", round(average(subtotals),2) \\n,\"Greatest Increase in Profits was $\", max(subtot(profits)), \", which occurred between \", months[78], \" and \", months[79] \\n,\"Greatest Decrease in Profits was $\", min(subtot(profits)), \", which occurred between \", months[48], \" and \", months[49] ]\n",
    "        # L6 = [\"'''\"]\n",
    "# with open(output_path, 'w+') as txtfile:\n",
    "    # txtfile.writelines(results)\n",
    "    # txtfile.writelines(L2)\n",
    "    # txtfile.writelines(L3)\n",
    "    # txtfile.writelines(L4)\n",
    "    # txtfile.writelines(L5)\n",
    "    # txtfile.writelines(L6)"
   ]
  },
  {
   "cell_type": "code",
   "execution_count": null,
   "metadata": {},
   "outputs": [],
   "source": []
  },
  {
   "cell_type": "code",
   "execution_count": null,
   "metadata": {},
   "outputs": [],
   "source": []
  }
 ],
 "metadata": {
  "interpreter": {
   "hash": "05e93dc6f4b40ed308aaec00c8196c9e66e08e848d1d5e061aaaa00cf4e3efac"
  },
  "kernelspec": {
   "display_name": "Python 3 (ipykernel)",
   "language": "python",
   "name": "python3"
  },
  "language_info": {
   "codemirror_mode": {
    "name": "ipython",
    "version": 3
   },
   "file_extension": ".py",
   "mimetype": "text/x-python",
   "name": "python",
   "nbconvert_exporter": "python",
   "pygments_lexer": "ipython3",
   "version": "3.9.7"
  }
 },
 "nbformat": 4,
 "nbformat_minor": 2
}
