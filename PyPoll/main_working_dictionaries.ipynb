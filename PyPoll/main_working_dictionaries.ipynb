{
 "cells": [
  {
   "cell_type": "code",
   "execution_count": 1,
   "metadata": {},
   "outputs": [],
   "source": [
    "# Get dependencies\n",
    "import os\n",
    "import csv\n",
    "from collections import ChainMap\n",
    "from functools import reduce"
   ]
  },
  {
   "cell_type": "code",
   "execution_count": 2,
   "metadata": {},
   "outputs": [],
   "source": [
    "#os.getcwd()   # to see current path\n",
    "# output - '/Users/sheridutton/Documents/GitHub/python-challenge/PyPoll'"
   ]
  },
  {
   "cell_type": "code",
   "execution_count": 3,
   "metadata": {},
   "outputs": [],
   "source": [
    "#os.listdir()  # to list current directory   # output - ['main.ipynb', '.DS_Store', 'analysis', 'Resources', 'main.py']"
   ]
  },
  {
   "cell_type": "code",
   "execution_count": 4,
   "metadata": {},
   "outputs": [],
   "source": [
    "# Path to collect data from the Resources folder\n",
    "# csv_path = os.path.join('/Users/sheridutton/Documents/GitHub/python-challenge/PyPoll', 'Resources', 'budget_data.csv')\n",
    "csv_path = os.path.join('..', 'PyPoll/Resources', 'election_data.csv')\n",
    "# csv_path      # to confirm path # output - '../PyPoll/Resources/election_data.csv'"
   ]
  },
  {
   "cell_type": "code",
   "execution_count": 5,
   "metadata": {},
   "outputs": [],
   "source": [
    "# code block using dictionaries\n",
    "# Read the csv and skip the Header row and get a list for the rest of the rows\n",
    "\n",
    "with open(csv_path) as csvfile:\n",
    "    vote_rows = []\n",
    "    vote_dict_reader = csv.DictReader(csvfile, delimiter=',')\n",
    "    header = next(vote_dict_reader)\n",
    "    for row in vote_dict_reader:\n",
    "        vote_rows.append(row)\n",
    "    # print(vote_rows[-1])     # output = {'Ballot ID': '4660518', 'County': 'Arapahoe', 'Candidate': 'Raymon Anthony Doane'}\n",
    "    # print(vote_rows[-2])     # output = {'Ballot ID': '4592018', 'County': 'Arapahoe', 'Candidate': 'Raymon Anthony Doane'}\n",
    "    # print(vote_rows[369709])     # output = {'Ballot ID': '4592018', 'County': 'Arapahoe', 'Candidate': 'Raymon Anthony Doane'}\n",
    "    # print(vote_rows[369708])     # output = {'Ballot ID': '4592018', 'County': 'Arapahoe', 'Candidate': 'Raymon Anthony Doane'}\n",
    "    # print(vote_rows[1:5])     # output = {'Ballot ID': '4592018', 'County': 'Arapahoe', 'Candidate': 'Raymon Anthony Doane'}\n",
    "    # print(len(vote_rows))     # output = 369710\n",
    "\n",
    "# def count(vote_rows):\n",
    "    # count_dict = {Candidate:vote_rows.count(Candidate) for Candidate in vote_rows}\n",
    "    # return dict(sorted(count_dict.items(), key=lambda x:x[1]))\n",
    "    \n",
    "# def count(vote_list):\n",
    "    # count_dict = {}\n",
    "    # for num in vote_list:\n",
    "        # count_dict[num] = vote_list.count(num)\n",
    "    # return dict(sorted(count_dict.items(), key=lambda x:x[1]))\n",
    "\n",
    "# print(count(vote_rows))\n",
    "    \n",
    "\n",
    "\n",
    "    \n",
    "# duplicates = []\n",
    "# for i in vote_rows:\n",
    "    # if i not in duplicates:\n",
    "        # duplicates.append(i)\n",
    "    # else:\n",
    "    # print(i, end=' ')\n",
    "    \n",
    "        \n",
    "# from collections import ChainMap\n",
    "    # vote_dict = {}   # worked\n",
    "    # for i in vote_rows:  # worked\n",
    "        # vote_dict.update(i)  # worked\n",
    "    # print(vote_dict)     # output = single dictionary\n",
    "\n",
    "    # vote_dict = {str(k).replace(\" \",\"_\"):v for list_item in vote_rows for (k,v) in list_item.items()}\n",
    "   \n",
    "    # print(len(vote_dict))     # output = 3\n",
    "    # print(vote_dict)     # output = {'Ballot ID': '4660518', 'County': 'Arapahoe', 'Candidate': 'Raymon Anthony Doane'}\n",
    "    # qty_items = list(vote_dict.items())[0][1]\n",
    "    # print(f'Quantity of items in vote_dict: {qty_items}.')     # output - 4660518\n",
    "    # qty_values = list(vote_dict.values())[0]\n",
    "    # print(f'Quantity of values in vote_dict: {qty_values}.')     # output - 4660518\n",
    "    # first_value = next(iter(vote_dict.items()))[101]\n",
    "    # print(f'First Value in vote_dict: {first_value}.')     # output - 4660518\n",
    "    \n",
    "    \n",
    "    \n",
    "    \n",
    "    # def check_duplicates(vote_rows):\n",
    "        # for row in vote_rows:\n",
    "            # dup_list = []\n",
    "            # for Candidate in vote_rows:\n",
    "                # if vote_rows.count(Candidate)>1:\n",
    "                    # dup_list.append(Candidate)\n",
    "            # return dup_list\n",
    "        \n",
    "# check_duplicates(vote_rows)\n",
    "# print(dup_list)\n",
    "\n",
    "        # print(f'\\t{row[\"Ballot ID\"]})\n",
    "        \n",
    "        # for rows in vote_rows:\n",
    "            # vote_dict = {vote_rows}\n",
    "        # vote_dict.update(vote_rows)\n",
    "        # information on csvfiles with DictReader from:  https://thispointer.com/python-read-a-csv-file-line-by-line-with-or-without-header/\n",
    "        # print(header)     #output = {'Ballot ID': '1323913', 'County': 'Jefferson', 'Candidate': 'Charles Casper Stockham'}\n",
    "    # print(len(vote_rows))     # output = 369710\n",
    "    # print(vote_rows[:5])     # output = [{'Ballot ID': '1005842', 'County': 'Jefferson', 'Candidate': 'Charles Casper Stockham'}, {'Ballot ID': '1880345',...\n",
    "    # print(type(header))     # output = <class 'dict'>\n",
    "    # great link for slices:  https://note.nkmk.me/en/python-slice-usage/\n",
    "    # great link for list comprehension:  https://note.nkmk.me/en/python-list-comprehension/\n",
    "    # link for informaton on COUNT - to count duplicates in a list:  https://tutorial.eyehunts.com/python/python-find-duplicates-in-a-list-and-count-them-example-code/#:~:text=If%20you%20want%20to%20count,and%20count%20them%20in%20Python.\n",
    "    # print(vote_dict_reader)     # output - <csv.DictReader object at 0x7fdeb8710b20>\n",
    "# type(vote_rows)     # output = list\n",
    "    # ordered_vote_dict = list(vote_dict_reader)\n",
    "    # vote_dict_from_csv = dict(ordered_vote_dict)\n",
    "    \n"
   ]
  },
  {
   "cell_type": "code",
   "execution_count": 6,
   "metadata": {},
   "outputs": [],
   "source": [
    "# link used to help with starting to count within the dictionary: \n",
    "# https://www.geeksforgeeks.org/python-count-number-of-items-in-a-dictionary-value-that-is-a-list/\n",
    "# type(vote_dict_reader)     # output = csv.DictReader\n"
   ]
  },
  {
   "cell_type": "code",
   "execution_count": 125,
   "metadata": {},
   "outputs": [],
   "source": [
    "# Information on writing text files from \n",
    "# https://www.geeksforgeeks.org/reading-writing-text-files-python/\n"
   ]
  }
 ],
 "metadata": {
  "interpreter": {
   "hash": "05e93dc6f4b40ed308aaec00c8196c9e66e08e848d1d5e061aaaa00cf4e3efac"
  },
  "kernelspec": {
   "display_name": "Python 3 (ipykernel)",
   "language": "python",
   "name": "python3"
  },
  "language_info": {
   "codemirror_mode": {
    "name": "ipython",
    "version": 3
   },
   "file_extension": ".py",
   "mimetype": "text/x-python",
   "name": "python",
   "nbconvert_exporter": "python",
   "pygments_lexer": "ipython3",
   "version": "3.9.7"
  }
 },
 "nbformat": 4,
 "nbformat_minor": 2
}
