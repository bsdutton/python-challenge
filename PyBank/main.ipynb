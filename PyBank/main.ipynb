{
 "cells": [
  {
   "cell_type": "code",
   "execution_count": 1,
   "metadata": {},
   "outputs": [],
   "source": [
    "# Get dependencies\n",
    "import os\n",
    "import csv"
   ]
  },
  {
   "cell_type": "code",
   "execution_count": 2,
   "metadata": {},
   "outputs": [],
   "source": [
    "# Path to collect data from the Resources folder\n",
    "csv_path = os.path.join('..', 'PyBank/Resources', 'budget_data.csv')\n",
    "# csv_path      # to confirm path   # output = '../PyBank/Resources/budget_data.csv'"
   ]
  },
  {
   "cell_type": "code",
   "execution_count": 3,
   "metadata": {},
   "outputs": [],
   "source": [
    "# code block starting with dictionaries after reading CSV file\n",
    "# Read the csv and skip the Header row\n",
    "with open(csv_path) as csvfile:\n",
    "    budget_reader = csv.reader(csvfile, delimiter=',')\n",
    "    header = next(budget_reader)\n",
    "    budget = dict(budget_reader)\n",
    "    # convert budget values to a list\n",
    "    profit_loss = list(budget.values())\n",
    "    # information on list conversion from:\n",
    "    # https://blog.finxter.com/how-to-convert-a-string-list-to-an-integer-list-in-python/\n",
    "    profits = list([int(x) for x in profit_loss])\n",
    "    # print(profits)  # output = [1088983, -354534, 276622, ..."
   ]
  },
  {
   "cell_type": "code",
   "execution_count": 4,
   "metadata": {},
   "outputs": [],
   "source": [
    "# confirm element type in list and test sums\n",
    "# print(type(profits[0])) # Output = <class 'int'>\n",
    "# print((profits[1] - profits[0]))    # output = -1443517\n",
    "# print((profits[10] - profits[9]))   # output = -1736491\n",
    "# print((profits[85] - profits[84]))  # output -224669\n",
    "# print((profits[len(profits)-1] - profits[len(profits)-2]))  # output = -224669 # len(profits)-1 is LAST!\n",
    "# Define function for subtotals\n",
    "profits = list([int(x) for x in profit_loss])       \n",
    "def subtot(profits):\n",
    "    subtotals = []\n",
    "    for i in range(0,len(profits)-1):\n",
    "        p = profits[i]\n",
    "        q = profits[i+1]\n",
    "        r = q - p\n",
    "        yield(r)\n",
    "        subtotals.append(r)\n",
    "# print(list(subtot(profits)))    # output = [-1443517, 631156, -1004755, 1581126,\n",
    "# subtot  # output = function __main__.subtot(profits)>"
   ]
  },
  {
   "cell_type": "code",
   "execution_count": 5,
   "metadata": {},
   "outputs": [
    {
     "name": "stdout",
     "output_type": "stream",
     "text": [
      "1862002\n"
     ]
    }
   ],
   "source": [
    "print(max(subtot(profits)))\n"
   ]
  },
  {
   "cell_type": "code",
   "execution_count": 6,
   "metadata": {},
   "outputs": [
    {
     "name": "stdout",
     "output_type": "stream",
     "text": [
      "-1825558\n"
     ]
    }
   ],
   "source": [
    "print(min(subtot(profits)))"
   ]
  },
  {
   "cell_type": "code",
   "execution_count": 7,
   "metadata": {},
   "outputs": [],
   "source": [
    "subtotals = list(subtot(profits))\n",
    "# print(subtotals)"
   ]
  },
  {
   "cell_type": "code",
   "execution_count": 8,
   "metadata": {},
   "outputs": [
    {
     "name": "stdout",
     "output_type": "stream",
     "text": [
      "78\n"
     ]
    }
   ],
   "source": [
    "# Information on index from https://www.guru99.com/python-list-index.html\n",
    "print(subtotals.index(max(subtotals)))"
   ]
  },
  {
   "cell_type": "code",
   "execution_count": 9,
   "metadata": {},
   "outputs": [
    {
     "name": "stdout",
     "output_type": "stream",
     "text": [
      "48\n"
     ]
    }
   ],
   "source": [
    "print(subtotals.index(min(subtotals)))"
   ]
  },
  {
   "cell_type": "code",
   "execution_count": 10,
   "metadata": {},
   "outputs": [],
   "source": [
    "months = list(budget.keys())\n",
    "# print(months)"
   ]
  },
  {
   "cell_type": "code",
   "execution_count": 11,
   "metadata": {},
   "outputs": [
    {
     "name": "stdout",
     "output_type": "stream",
     "text": [
      "Jul-16\n"
     ]
    }
   ],
   "source": [
    "print(months[78])"
   ]
  },
  {
   "cell_type": "code",
   "execution_count": 12,
   "metadata": {},
   "outputs": [
    {
     "name": "stdout",
     "output_type": "stream",
     "text": [
      "Jan-14\n"
     ]
    }
   ],
   "source": [
    "print(months[48])"
   ]
  },
  {
   "cell_type": "code",
   "execution_count": 13,
   "metadata": {},
   "outputs": [
    {
     "name": "stdout",
     "output_type": "stream",
     "text": [
      "-1825558\n"
     ]
    }
   ],
   "source": [
    "print((profits[49] - profits[48]))"
   ]
  },
  {
   "cell_type": "code",
   "execution_count": 14,
   "metadata": {},
   "outputs": [
    {
     "name": "stdout",
     "output_type": "stream",
     "text": [
      "1862002\n"
     ]
    }
   ],
   "source": [
    "print((profits[79] - profits[78]))"
   ]
  },
  {
   "cell_type": "code",
   "execution_count": 15,
   "metadata": {},
   "outputs": [
    {
     "name": "stdout",
     "output_type": "stream",
     "text": [
      "22564198\n"
     ]
    }
   ],
   "source": [
    "print(sum(profits))"
   ]
  },
  {
   "cell_type": "code",
   "execution_count": 17,
   "metadata": {
    "scrolled": true
   },
   "outputs": [
    {
     "name": "stdout",
     "output_type": "stream",
     "text": [
      "-706444\n"
     ]
    }
   ],
   "source": [
    "print(sum(subtotals))"
   ]
  },
  {
   "cell_type": "code",
   "execution_count": 18,
   "metadata": {},
   "outputs": [
    {
     "name": "stdout",
     "output_type": "stream",
     "text": [
      "85\n"
     ]
    }
   ],
   "source": [
    "print(len(subtotals))"
   ]
  },
  {
   "cell_type": "code",
   "execution_count": 24,
   "metadata": {},
   "outputs": [
    {
     "name": "stdout",
     "output_type": "stream",
     "text": [
      "-8311.11\n"
     ]
    }
   ],
   "source": [
    "print(round((sum(subtotals)) / (len(subtotals)),2))"
   ]
  },
  {
   "cell_type": "code",
   "execution_count": 25,
   "metadata": {
    "scrolled": true
   },
   "outputs": [
    {
     "name": "stdout",
     "output_type": "stream",
     "text": [
      "The average monthly profit was actually a loss of $-8311.11.\n"
     ]
    }
   ],
   "source": [
    "# Second Method for Average\n",
    "# Define function to get Average of monthly profits/losses\n",
    "def average(subtotals):\n",
    "    l = len(subtotals)\n",
    "    total_profits = 0\n",
    "    for val in subtotals:\n",
    "        total_profits = total_profits + val\n",
    "    return(total_profits / l)\n",
    "print(f\"The average monthly profit was actually a loss of ${round(average(subtotals),2)}.\")"
   ]
  },
  {
   "cell_type": "code",
   "execution_count": 26,
   "metadata": {},
   "outputs": [],
   "source": [
    "# Path to write text file into the \"analysis\" folder\n",
    "output_path = os.path.join('..', 'PyBank/analysis', 'analysis-results.txt')\n",
    "# output_path      # to confirm path # output - '../PyBank/Resources/budget_data.csv'"
   ]
  },
  {
   "cell_type": "code",
   "execution_count": 27,
   "metadata": {},
   "outputs": [],
   "source": [
    "# f-strings information from: https://realpython.com/python-f-strings/#multiline-f-strings\n",
    "# maximum line length information from: https://peps.python.org/pep-0008/#maximum-line-length\n",
    "message = (f\"Financial Analysis\\n\"\n",
    "f\"-----------------------------------\\n\"\n",
    "f\"Total Profits were ${sum(profits)}.\\n\"\n",
    "f\"Average Profit Change was ${round(average(subtotals),2)}.\\n\"\n",
    "f\"Greatest Increase in Profits was ${max(subtot(profits))} which occurred between {months[78]} and {months[79]}.\\n\"\n",
    "f\"Greatest Decrease in Profits was ${min(subtot(profits))} which occurred between {months[48]} and {months[49]}.\")\n",
    "\n"
   ]
  },
  {
   "cell_type": "code",
   "execution_count": 28,
   "metadata": {},
   "outputs": [],
   "source": [
    "# Write the txt file:\n",
    "with open(output_path, 'w+') as txtfile:\n",
    "    # Initialize txt.writer\n",
    "    txtfile.write(message)\n",
    "    txtfile.close()"
   ]
  },
  {
   "cell_type": "code",
   "execution_count": null,
   "metadata": {},
   "outputs": [],
   "source": []
  }
 ],
 "metadata": {
  "interpreter": {
   "hash": "05e93dc6f4b40ed308aaec00c8196c9e66e08e848d1d5e061aaaa00cf4e3efac"
  },
  "kernelspec": {
   "display_name": "Python 3 (ipykernel)",
   "language": "python",
   "name": "python3"
  },
  "language_info": {
   "codemirror_mode": {
    "name": "ipython",
    "version": 3
   },
   "file_extension": ".py",
   "mimetype": "text/x-python",
   "name": "python",
   "nbconvert_exporter": "python",
   "pygments_lexer": "ipython3",
   "version": "3.9.7"
  }
 },
 "nbformat": 4,
 "nbformat_minor": 2
}
