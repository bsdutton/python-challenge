{
 "cells": [
  {
   "cell_type": "code",
   "execution_count": 1,
   "metadata": {},
   "outputs": [],
   "source": [
    "# Get dependencies\n",
    "import os\n",
    "import csv"
   ]
  },
  {
   "cell_type": "code",
   "execution_count": 3,
   "metadata": {},
   "outputs": [],
   "source": [
    "# os.getcwd()   # to see current path\n",
    "# output - '/Users/sheridutton/Desktop/UCI GitLab Clone/UCI-VIRT-DATA-PT-03-2022-U-LOL/02-Homework/03-Python/python-challenge/Instructions/PyBank'"
   ]
  },
  {
   "cell_type": "code",
   "execution_count": 4,
   "metadata": {},
   "outputs": [],
   "source": [
    "# os.listdir()  # to list current directory   # output - ['main.ipynb', '.DS_Store', 'analysis', 'Resources', 'main.py']"
   ]
  },
  {
   "cell_type": "code",
   "execution_count": 5,
   "metadata": {},
   "outputs": [],
   "source": [
    "# Path to collect data from the Resources folder\n",
    "# csv_path = os.path.join('/Users/sheridutton/Desktop/UCI GitLab Clone/UCI-VIRT-DATA-PT-03-2022-U-LOL/02-Homework/03-Python/python-challenge/Instructions/PyBank', 'Resources', 'budget_data.csv')\n",
    "csv_path = os.path.join('..', 'PyBank/Resources', 'budget_data.csv')\n",
    "# csv_path      # to confirm path # output - '../PyBank/Resources/budget_data.csv'"
   ]
  },
  {
   "cell_type": "code",
   "execution_count": 6,
   "metadata": {},
   "outputs": [
    {
     "name": "stdout",
     "output_type": "stream",
     "text": [
      "[1088983, -354534, 276622, -728133, 852993, 563721, -535208, 632349, -173744, 950741, -785750, -1194133, -589576, -883921, 443564, 837887, 1081472, 464033, -1066544, 323846, -806551, 487053, 1128811, 791398, 739367, -197825, 666016, 589771, 489290, -471439, 120417, 175347, 855449, 605195, -235220, 347138, 298510, 163254, 1141840, 542630, 99841, 752765, -252949, 914424, 679524, 514377, 462102, 159782, 878810, -946748, 340335, 292032, 502266, 265852, 851017, -549615, 290162, 755391, 1073202, 313000, 241132, 1036589, 853904, -388932, 982952, 537759, 547784, -496214, 854181, 934719, -288531, -184383, 659541, -1149123, 355882, 662284, 518681, -748256, -910775, 951227, 898241, -729004, -112209, 516313, 607208, 382539]\n"
     ]
    }
   ],
   "source": [
    "# code block using dictionaries\n",
    "# Read the csv and skip the Header row\n",
    "with open(csv_path) as csvfile:\n",
    "    budget_reader = csv.reader(csvfile, delimiter=',')\n",
    "    header = next(budget_reader)\n",
    "    budget = dict(budget_reader)\n",
    "# type(budget)      # output = tuple, when budget = tuple(budget_reader)\n",
    "# output = list, when budget = [budget_reader]\n",
    "# output = set, when budget = {budget_reader}\n",
    "# output = dict when budget = dict(budget_reader)\n",
    "# len(budget)       # output - 86\n",
    "# print(max(budget))  # output - ['Sep-16', '898241']\n",
    "# print(min(budget))  # output -   ['Apr-10', '-728133']\n",
    "    profit_loss = list(budget.values())\n",
    "    # print(profit_loss)  # output = [dict_values(['1088983', '-354534',...\n",
    "    # months = [budget.keys()]\n",
    "    # print(months)       # output = dict_keys(['Jan-10', 'Feb-10',...\n",
    "    # print(budget)\n",
    "    # print(profit_loss)  # output = ['1088983', '-354534', '276622', ... when profit_loss = list(budget.values())\n",
    "    # information on list conversion from https://blog.finxter.com/how-to-convert-a-string-list-to-an-integer-list-in-python/\n",
    "    # print(type(profit_loss[0])) # output = <class 'str'>\n",
    "    # type(profit_loss)\n",
    "    profits = list([int(x) for x in profit_loss])\n",
    "    print(profits)  # output = [1088983, -354534, 276622, ..."
   ]
  },
  {
   "cell_type": "code",
   "execution_count": 7,
   "metadata": {},
   "outputs": [
    {
     "name": "stdout",
     "output_type": "stream",
     "text": [
      "[-1443517, 631156, -1004755, 1581126, -289272, -1098929, 1167557, -806093, 1124485, -1736491, -408383, 604557, -294345, 1327485, 394323, 243585, -617439, -1530577, 1390390, -1130397, 1293604, 641758, -337413, -52031, -937192, 863841, -76245, -100481, -960729, 591856, 54930, 680102, -250254, -840415, 582358, -48628, -135256, 978586, -599210, -442789, 652924, -1005714, 1167373, -234900, -165147, -52275, -302320, 719028, -1825558, 1287083, -48303, 210234, -236414, 585165, -1400632, 839777, 465229, 317811, -760202, -71868, 795457, -182685, -1242836, 1371884, -445193, 10025, -1043998, 1350395, 80538, -1223250, 104148, 843924, -1808664, 1505005, 306402, -143603, -1266937, -162519, 1862002, -52986, -1627245, 616795, 628522, 90895, -224669]\n"
     ]
    }
   ],
   "source": [
    "# print(type(profits[0])) # Output = <class 'int'>\n",
    "# print((profits[1] - profits[0]))    # output = -1443517\n",
    "# print((profits[10] - profits[9]))   # output = -1736491\n",
    "# print((profits[85] - profits[84]))  # output -224669\n",
    "# print((profits[len(profits)-1] - profits[len(profits)-2]))  # output = -224669 # len(profits)-1 is LAST!\n",
    "# Try function for subtotals\n",
    "profits = list([int(x) for x in profit_loss])       \n",
    "def subtot(profits):\n",
    "    #count = 0\n",
    "    subtotals = []\n",
    "    for i in range(0,len(profits)-1):\n",
    "        p = profits[i]\n",
    "        q = profits[i+1]\n",
    "        r = q - p\n",
    "        #subtotals = []\n",
    "        #for val in profits:\n",
    "        #subtotals.append(r)\n",
    "        #count = count + 1\n",
    "        #yield(subtotals)\n",
    "        yield(r)\n",
    "        subtotals.append(r)\n",
    "print(list(subtot(profits)))\n",
    "# subtot  # output = function __main__.subtot(profits)>"
   ]
  },
  {
   "cell_type": "code",
   "execution_count": 8,
   "metadata": {},
   "outputs": [
    {
     "name": "stdout",
     "output_type": "stream",
     "text": [
      "1862002\n"
     ]
    }
   ],
   "source": [
    "print(max(subtot(profits)))\n"
   ]
  },
  {
   "cell_type": "code",
   "execution_count": 9,
   "metadata": {},
   "outputs": [
    {
     "name": "stdout",
     "output_type": "stream",
     "text": [
      "-1825558\n"
     ]
    }
   ],
   "source": [
    "print(min(subtot(profits)))"
   ]
  },
  {
   "cell_type": "code",
   "execution_count": 10,
   "metadata": {},
   "outputs": [
    {
     "name": "stdout",
     "output_type": "stream",
     "text": [
      "[-1443517, 631156, -1004755, 1581126, -289272, -1098929, 1167557, -806093, 1124485, -1736491, -408383, 604557, -294345, 1327485, 394323, 243585, -617439, -1530577, 1390390, -1130397, 1293604, 641758, -337413, -52031, -937192, 863841, -76245, -100481, -960729, 591856, 54930, 680102, -250254, -840415, 582358, -48628, -135256, 978586, -599210, -442789, 652924, -1005714, 1167373, -234900, -165147, -52275, -302320, 719028, -1825558, 1287083, -48303, 210234, -236414, 585165, -1400632, 839777, 465229, 317811, -760202, -71868, 795457, -182685, -1242836, 1371884, -445193, 10025, -1043998, 1350395, 80538, -1223250, 104148, 843924, -1808664, 1505005, 306402, -143603, -1266937, -162519, 1862002, -52986, -1627245, 616795, 628522, 90895, -224669]\n"
     ]
    }
   ],
   "source": [
    "subtotals = list(subtot(profits))\n",
    "print(subtotals)"
   ]
  },
  {
   "cell_type": "code",
   "execution_count": 11,
   "metadata": {},
   "outputs": [
    {
     "name": "stdout",
     "output_type": "stream",
     "text": [
      "78\n"
     ]
    }
   ],
   "source": [
    "# Information on index from https://www.guru99.com/python-list-index.html\n",
    "print(subtotals.index(max(subtotals)))"
   ]
  },
  {
   "cell_type": "code",
   "execution_count": 12,
   "metadata": {},
   "outputs": [
    {
     "name": "stdout",
     "output_type": "stream",
     "text": [
      "48\n"
     ]
    }
   ],
   "source": [
    "print(subtotals.index(min(subtotals)))"
   ]
  },
  {
   "cell_type": "code",
   "execution_count": 13,
   "metadata": {},
   "outputs": [
    {
     "name": "stdout",
     "output_type": "stream",
     "text": [
      "['Jan-10', 'Feb-10', 'Mar-10', 'Apr-10', 'May-10', 'Jun-10', 'Jul-10', 'Aug-10', 'Sep-10', 'Oct-10', 'Nov-10', 'Dec-10', 'Jan-11', 'Feb-11', 'Mar-11', 'Apr-11', 'May-11', 'Jun-11', 'Jul-11', 'Aug-11', 'Sep-11', 'Oct-11', 'Nov-11', 'Dec-11', 'Jan-12', 'Feb-12', 'Mar-12', 'Apr-12', 'May-12', 'Jun-12', 'Jul-12', 'Aug-12', 'Sep-12', 'Oct-12', 'Nov-12', 'Dec-12', 'Jan-13', 'Feb-13', 'Mar-13', 'Apr-13', 'May-13', 'Jun-13', 'Jul-13', 'Aug-13', 'Sep-13', 'Oct-13', 'Nov-13', 'Dec-13', 'Jan-14', 'Feb-14', 'Mar-14', 'Apr-14', 'May-14', 'Jun-14', 'Jul-14', 'Aug-14', 'Sep-14', 'Oct-14', 'Nov-14', 'Dec-14', 'Jan-15', 'Feb-15', 'Mar-15', 'Apr-15', 'May-15', 'Jun-15', 'Jul-15', 'Aug-15', 'Sep-15', 'Oct-15', 'Nov-15', 'Dec-15', 'Jan-16', 'Feb-16', 'Mar-16', 'Apr-16', 'May-16', 'Jun-16', 'Jul-16', 'Aug-16', 'Sep-16', 'Oct-16', 'Nov-16', 'Dec-16', 'Jan-17', 'Feb-17']\n"
     ]
    }
   ],
   "source": [
    "months = list(budget.keys())\n",
    "print(months)"
   ]
  },
  {
   "cell_type": "code",
   "execution_count": 14,
   "metadata": {},
   "outputs": [
    {
     "name": "stdout",
     "output_type": "stream",
     "text": [
      "Jul-16\n"
     ]
    }
   ],
   "source": [
    "print(months[78])"
   ]
  },
  {
   "cell_type": "code",
   "execution_count": 15,
   "metadata": {},
   "outputs": [
    {
     "name": "stdout",
     "output_type": "stream",
     "text": [
      "Jan-14\n"
     ]
    }
   ],
   "source": [
    "print(months[48])"
   ]
  },
  {
   "cell_type": "code",
   "execution_count": 16,
   "metadata": {},
   "outputs": [
    {
     "name": "stdout",
     "output_type": "stream",
     "text": [
      "-1825558\n"
     ]
    }
   ],
   "source": [
    "print((profits[49] - profits[48]))"
   ]
  },
  {
   "cell_type": "code",
   "execution_count": 17,
   "metadata": {},
   "outputs": [
    {
     "name": "stdout",
     "output_type": "stream",
     "text": [
      "1862002\n"
     ]
    }
   ],
   "source": [
    "print((profits[79] - profits[78]))"
   ]
  },
  {
   "cell_type": "code",
   "execution_count": 35,
   "metadata": {},
   "outputs": [
    {
     "name": "stdout",
     "output_type": "stream",
     "text": [
      "22564198\n"
     ]
    }
   ],
   "source": [
    "print(sum(profits))"
   ]
  },
  {
   "cell_type": "code",
   "execution_count": 19,
   "metadata": {},
   "outputs": [],
   "source": [
    "# Define function to get Average for Profit/Loss\n",
    "# def average_of_profit(profit_loss):\n",
    "    # length = len(budget)\n",
    "    # total = 0\n",
    "    # for val in profit_loss:\n",
    "        # total = total + int(val)\n",
    "    # return(total / length)\n",
    "# print(round(average_of_profit(profit_loss),3))    # Output 262374.395\n",
    "# Information of Functions found at the following site:\n",
    "# https://www.educative.io/edpresso/how-to-compute-the-sum-of-a-list-in-python\n"
   ]
  },
  {
   "cell_type": "code",
   "execution_count": 26,
   "metadata": {},
   "outputs": [
    {
     "name": "stdout",
     "output_type": "stream",
     "text": [
      "The average monthly profit was actually a loss of $-8311.11.\n"
     ]
    }
   ],
   "source": [
    "# Average of profits using function above\n",
    "def average(subtotals):\n",
    "    l = len(subtotals)\n",
    "    total_profits = 0\n",
    "    for val in subtotals:\n",
    "        total_profits = total_profits + val\n",
    "    return(total_profits / l)\n",
    "print(f\"The average monthly profit was actually a loss of ${round(average(subtotals),2)}.\")"
   ]
  },
  {
   "cell_type": "code",
   "execution_count": 33,
   "metadata": {
    "scrolled": true
   },
   "outputs": [
    {
     "data": {
      "text/plain": [
       "'The greatest increase in monthly profits was $1862002, and it occured Jul-16.  The greatest decrease in monthly profits was $-1825558, and it occured Jan-14.'"
      ]
     },
     "execution_count": 33,
     "metadata": {},
     "output_type": "execute_result"
    }
   ],
   "source": [
    "message = f\"The greatest increase in monthly profits was ${max(subtot(profits))}, and it occured {months[subtotals.index(max(subtotals))]}.  \" \\\n",
    "f\"The greatest decrease in monthly profits was ${min(subtot(profits))}, and it occured {months[subtotals.index(min(subtotals))]}.\" \n",
    "message"
   ]
  },
  {
   "cell_type": "code",
   "execution_count": 36,
   "metadata": {},
   "outputs": [
    {
     "data": {
      "text/plain": [
       "'There were 86 months of profits/loss used in this Budget Analysis.  The total of all Profits/Loss over this time period was $22564198.'"
      ]
     },
     "execution_count": 36,
     "metadata": {},
     "output_type": "execute_result"
    }
   ],
   "source": [
    "message = f\"There were {len(budget)} months of profits/loss used in this Budget Analysis.  \" \\\n",
    "f\"The total of all Profits/Loss over this time period was ${sum(profits)}.\"\n",
    "message"
   ]
  },
  {
   "cell_type": "code",
   "execution_count": null,
   "metadata": {},
   "outputs": [],
   "source": [
    "# starting steps to write the analysis into its own CSV file.\n"
   ]
  },
  {
   "cell_type": "code",
   "execution_count": 38,
   "metadata": {},
   "outputs": [
    {
     "data": {
      "text/plain": [
       "'../PyBank/analysis/analysis-results.txt'"
      ]
     },
     "execution_count": 38,
     "metadata": {},
     "output_type": "execute_result"
    }
   ],
   "source": [
    "# Path to write text file into the \"analysis\" folder\n",
    "output_path = os.path.join('..', 'PyBank/analysis', 'analysis-results.txt')\n",
    "output_path      # to confirm path # output - '../PyBank/Resources/budget_data.csv'"
   ]
  },
  {
   "cell_type": "code",
   "execution_count": 121,
   "metadata": {},
   "outputs": [],
   "source": [
    "# f-strings information from: https://realpython.com/python-f-strings/#multiline-f-strings\n",
    "# maximum line length information from: https://peps.python.org/pep-0008/#maximum-line-length\n",
    "message = (f\"Total Profits were ${sum(profits)}.\\n\"\n",
    "f\"Average Profit Change was ${round(average(subtotals),2)}.\\n\"\n",
    "f\"Greatest Increase in Profits was ${max(subtot(profits))} which occurred between {months[78]} and {months[79]}.\\n\"\n",
    "f\"Greatest Decrease in Profits was ${min(subtot(profits))} which occurred between {months[48]} and {months[49]}.\")\n",
    "\n"
   ]
  },
  {
   "cell_type": "code",
   "execution_count": 122,
   "metadata": {},
   "outputs": [],
   "source": [
    "# Write the txt file:\n",
    "with open(output_path, 'w+') as txtfile:\n",
    "    # Initialize txt.writer\n",
    "    txtfile.write(message)"
   ]
  },
  {
   "cell_type": "code",
   "execution_count": null,
   "metadata": {},
   "outputs": [],
   "source": [
    "# Information on writing text files from \n",
    "# https://www.geeksforgeeks.org/reading-writing-text-files-python/\n"
   ]
  },
  {
   "cell_type": "code",
   "execution_count": 87,
   "metadata": {},
   "outputs": [
    {
     "ename": "SyntaxError",
     "evalue": "unexpected character after line continuation character (3392279320.py, line 3)",
     "output_type": "error",
     "traceback": [
      "\u001b[0;36m  File \u001b[0;32m\"/var/folders/jx/68y8f_1168v4r8z7c59g45wh0000gn/T/ipykernel_47259/3392279320.py\"\u001b[0;36m, line \u001b[0;32m3\u001b[0m\n\u001b[0;31m    results = [\"Total Profits were $\",sum(profits) \\n, \"Average Profit Change was $\", round(average(subtotals),2) \\n,\"Greatest Increase in Profits was $\", max(subtot(profits)), \", which occurred between \", months[78], \" and \", months[79] \\n,\"Greatest Decrease in Profits was $\", min(subtot(profits)), \", which occurred between \", months[48], \" and \", months[49] ]\u001b[0m\n\u001b[0m                                                                                                                                                                                                                                                                                                                                                                          ^\u001b[0m\n\u001b[0;31mSyntaxError\u001b[0m\u001b[0;31m:\u001b[0m unexpected character after line continuation character\n"
     ]
    }
   ],
   "source": [
    "        # L1 = [\"'''\"]\n",
    "\n",
    "        # results = [\"Total Profits were $\", sum(profits) \\n, \"Average Profit Change was $\", round(average(subtotals),2) \\n,\"Greatest Increase in Profits was $\", max(subtot(profits)), \", which occurred between \", months[78], \" and \", months[79] \\n,\"Greatest Decrease in Profits was $\", min(subtot(profits)), \", which occurred between \", months[48], \" and \", months[49] ]\n",
    "        # L6 = [\"'''\"]\n",
    "# with open(output_path, 'w+') as txtfile:\n",
    "    # txtfile.writelines(results)\n",
    "    # txtfile.writelines(L2)\n",
    "    # txtfile.writelines(L3)\n",
    "    # txtfile.writelines(L4)\n",
    "    # txtfile.writelines(L5)\n",
    "    # txtfile.writelines(L6)"
   ]
  },
  {
   "cell_type": "code",
   "execution_count": null,
   "metadata": {},
   "outputs": [],
   "source": []
  },
  {
   "cell_type": "code",
   "execution_count": null,
   "metadata": {},
   "outputs": [],
   "source": []
  }
 ],
 "metadata": {
  "interpreter": {
   "hash": "05e93dc6f4b40ed308aaec00c8196c9e66e08e848d1d5e061aaaa00cf4e3efac"
  },
  "kernelspec": {
   "display_name": "Python 3 (ipykernel)",
   "language": "python",
   "name": "python3"
  },
  "language_info": {
   "codemirror_mode": {
    "name": "ipython",
    "version": 3
   },
   "file_extension": ".py",
   "mimetype": "text/x-python",
   "name": "python",
   "nbconvert_exporter": "python",
   "pygments_lexer": "ipython3",
   "version": "3.9.7"
  }
 },
 "nbformat": 4,
 "nbformat_minor": 2
}
