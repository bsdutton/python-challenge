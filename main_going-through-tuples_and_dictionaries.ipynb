{
 "cells": [
  {
   "cell_type": "code",
   "execution_count": 3,
   "metadata": {},
   "outputs": [],
   "source": [
    "# Get dependencies\n",
    "import os\n",
    "import csv"
   ]
  },
  {
   "cell_type": "code",
   "execution_count": 4,
   "metadata": {},
   "outputs": [],
   "source": [
    "# os.getcwd()   # to see current path\n",
    "# output - '/Users/sheridutton/Desktop/UCI GitLab Clone/UCI-VIRT-DATA-PT-03-2022-U-LOL/02-Homework/03-Python/python-challenge/Instructions/PyBank'"
   ]
  },
  {
   "cell_type": "code",
   "execution_count": 5,
   "metadata": {},
   "outputs": [],
   "source": [
    "# os.listdir()  # to list current directory   # output - ['main.ipynb', '.DS_Store', 'analysis', 'Resources', 'main.py']"
   ]
  },
  {
   "cell_type": "code",
   "execution_count": 6,
   "metadata": {},
   "outputs": [],
   "source": [
    "# Path to collect data from the Resources folder\n",
    "# csv_path = os.path.join('/Users/sheridutton/Desktop/UCI GitLab Clone/UCI-VIRT-DATA-PT-03-2022-U-LOL/02-Homework/03-Python/python-challenge/Instructions/PyBank', 'Resources', 'budget_data.csv')\n",
    "csv_path = os.path.join('..', 'PyBank/Resources', 'budget_data.csv')\n",
    "# csv_path      # to confirm path # output - '../PyBank/Resources/budget_data.csv'"
   ]
  },
  {
   "cell_type": "code",
   "execution_count": 7,
   "metadata": {},
   "outputs": [
    {
     "name": "stdout",
     "output_type": "stream",
     "text": [
      "[1088983, -354534, 276622, -728133, 852993, 563721, -535208, 632349, -173744, 950741, -785750, -1194133, -589576, -883921, 443564, 837887, 1081472, 464033, -1066544, 323846, -806551, 487053, 1128811, 791398, 739367, -197825, 666016, 589771, 489290, -471439, 120417, 175347, 855449, 605195, -235220, 347138, 298510, 163254, 1141840, 542630, 99841, 752765, -252949, 914424, 679524, 514377, 462102, 159782, 878810, -946748, 340335, 292032, 502266, 265852, 851017, -549615, 290162, 755391, 1073202, 313000, 241132, 1036589, 853904, -388932, 982952, 537759, 547784, -496214, 854181, 934719, -288531, -184383, 659541, -1149123, 355882, 662284, 518681, -748256, -910775, 951227, 898241, -729004, -112209, 516313, 607208, 382539]\n"
     ]
    }
   ],
   "source": [
    "# code block using dictionaries\n",
    "# Read the csv and skip the Header row\n",
    "with open(csv_path) as csvfile:\n",
    "    budget_reader = csv.reader(csvfile, delimiter=',')\n",
    "    header = next(budget_reader)\n",
    "    budget = dict(budget_reader)\n",
    "# type(budget)      # output = tuple, when budget = tuple(budget_reader)\n",
    "# output = list, when budget = [budget_reader]\n",
    "# output = set, when budget = {budget_reader}\n",
    "# output = dict when budget = dict(budget_reader)\n",
    "# len(budget)       # output - 86\n",
    "# print(max(budget))  # output - ['Sep-16', '898241']\n",
    "# print(min(budget))  # output -   ['Apr-10', '-728133']\n",
    "    profit_loss = list(budget.values())\n",
    "    # print(profit_loss)  # output = [dict_values(['1088983', '-354534',...\n",
    "    # months = [budget.keys()]\n",
    "    # print(months)       # output = dict_keys(['Jan-10', 'Feb-10',...\n",
    "    # print(budget)\n",
    "    # print(profit_loss)  # output = ['1088983', '-354534', '276622', ... when profit_loss = list(budget.values())\n",
    "    # information on list conversion from https://blog.finxter.com/how-to-convert-a-string-list-to-an-integer-list-in-python/\n",
    "    # print(type(profit_loss[0])) # output = <class 'str'>\n",
    "    # type(profit_loss)\n",
    "    profits = list([int(x) for x in profit_loss])\n",
    "    print(profits)  # output = [1088983, -354534, 276622, ..."
   ]
  },
  {
   "cell_type": "code",
   "execution_count": 8,
   "metadata": {},
   "outputs": [
    {
     "name": "stdout",
     "output_type": "stream",
     "text": [
      "[-1443517, 631156, -1004755, 1581126, -289272, -1098929, 1167557, -806093, 1124485, -1736491, -408383, 604557, -294345, 1327485, 394323, 243585, -617439, -1530577, 1390390, -1130397, 1293604, 641758, -337413, -52031, -937192, 863841, -76245, -100481, -960729, 591856, 54930, 680102, -250254, -840415, 582358, -48628, -135256, 978586, -599210, -442789, 652924, -1005714, 1167373, -234900, -165147, -52275, -302320, 719028, -1825558, 1287083, -48303, 210234, -236414, 585165, -1400632, 839777, 465229, 317811, -760202, -71868, 795457, -182685, -1242836, 1371884, -445193, 10025, -1043998, 1350395, 80538, -1223250, 104148, 843924, -1808664, 1505005, 306402, -143603, -1266937, -162519, 1862002, -52986, -1627245, 616795, 628522, 90895, -224669]\n"
     ]
    }
   ],
   "source": [
    "# print(type(profits[0])) # Output = <class 'int'>\n",
    "# print((profits[1] - profits[0]))    # output = -1443517\n",
    "# print((profits[10] - profits[9]))   # output = -1736491\n",
    "# print((profits[85] - profits[84]))  # output -224669\n",
    "# print((profits[len(profits)-1] - profits[len(profits)-2]))  # output = -224669 # len(profits)-1 is LAST!\n",
    "# Try function for subtotals\n",
    "profits = list([int(x) for x in profit_loss])       \n",
    "def subtot(profits):\n",
    "    #count = 0\n",
    "    subtotals = []\n",
    "    for i in range(0,len(profits)-1):\n",
    "        p = profits[i]\n",
    "        q = profits[i+1]\n",
    "        r = q - p\n",
    "        #subtotals = []\n",
    "        #for val in profits:\n",
    "        #subtotals.append(r)\n",
    "        #count = count + 1\n",
    "        #yield(subtotals)\n",
    "        yield(r)\n",
    "        subtotals.append(r)\n",
    "print(list(subtot(profits)))\n",
    "# subtot  # output = function __main__.subtot(profits)>"
   ]
  },
  {
   "cell_type": "code",
   "execution_count": 9,
   "metadata": {},
   "outputs": [
    {
     "name": "stdout",
     "output_type": "stream",
     "text": [
      "1862002\n"
     ]
    }
   ],
   "source": [
    "print(max(subtot(profits)))\n"
   ]
  },
  {
   "cell_type": "code",
   "execution_count": 10,
   "metadata": {},
   "outputs": [
    {
     "name": "stdout",
     "output_type": "stream",
     "text": [
      "-1825558\n"
     ]
    }
   ],
   "source": [
    "print(min(subtot(profits)))"
   ]
  },
  {
   "cell_type": "code",
   "execution_count": 11,
   "metadata": {},
   "outputs": [
    {
     "name": "stdout",
     "output_type": "stream",
     "text": [
      "[-1443517, 631156, -1004755, 1581126, -289272, -1098929, 1167557, -806093, 1124485, -1736491, -408383, 604557, -294345, 1327485, 394323, 243585, -617439, -1530577, 1390390, -1130397, 1293604, 641758, -337413, -52031, -937192, 863841, -76245, -100481, -960729, 591856, 54930, 680102, -250254, -840415, 582358, -48628, -135256, 978586, -599210, -442789, 652924, -1005714, 1167373, -234900, -165147, -52275, -302320, 719028, -1825558, 1287083, -48303, 210234, -236414, 585165, -1400632, 839777, 465229, 317811, -760202, -71868, 795457, -182685, -1242836, 1371884, -445193, 10025, -1043998, 1350395, 80538, -1223250, 104148, 843924, -1808664, 1505005, 306402, -143603, -1266937, -162519, 1862002, -52986, -1627245, 616795, 628522, 90895, -224669]\n"
     ]
    }
   ],
   "source": [
    "subtotals = list(subtot(profits))\n",
    "print(subtotals)"
   ]
  },
  {
   "cell_type": "code",
   "execution_count": 12,
   "metadata": {},
   "outputs": [
    {
     "name": "stdout",
     "output_type": "stream",
     "text": [
      "78\n"
     ]
    }
   ],
   "source": [
    "# Information on index from https://www.guru99.com/python-list-index.html\n",
    "print(subtotals.index(max(subtotals)))"
   ]
  },
  {
   "cell_type": "code",
   "execution_count": 13,
   "metadata": {},
   "outputs": [
    {
     "name": "stdout",
     "output_type": "stream",
     "text": [
      "48\n"
     ]
    }
   ],
   "source": [
    "print(subtotals.index(min(subtotals)))"
   ]
  },
  {
   "cell_type": "code",
   "execution_count": 14,
   "metadata": {},
   "outputs": [
    {
     "name": "stdout",
     "output_type": "stream",
     "text": [
      "['Jan-10', 'Feb-10', 'Mar-10', 'Apr-10', 'May-10', 'Jun-10', 'Jul-10', 'Aug-10', 'Sep-10', 'Oct-10', 'Nov-10', 'Dec-10', 'Jan-11', 'Feb-11', 'Mar-11', 'Apr-11', 'May-11', 'Jun-11', 'Jul-11', 'Aug-11', 'Sep-11', 'Oct-11', 'Nov-11', 'Dec-11', 'Jan-12', 'Feb-12', 'Mar-12', 'Apr-12', 'May-12', 'Jun-12', 'Jul-12', 'Aug-12', 'Sep-12', 'Oct-12', 'Nov-12', 'Dec-12', 'Jan-13', 'Feb-13', 'Mar-13', 'Apr-13', 'May-13', 'Jun-13', 'Jul-13', 'Aug-13', 'Sep-13', 'Oct-13', 'Nov-13', 'Dec-13', 'Jan-14', 'Feb-14', 'Mar-14', 'Apr-14', 'May-14', 'Jun-14', 'Jul-14', 'Aug-14', 'Sep-14', 'Oct-14', 'Nov-14', 'Dec-14', 'Jan-15', 'Feb-15', 'Mar-15', 'Apr-15', 'May-15', 'Jun-15', 'Jul-15', 'Aug-15', 'Sep-15', 'Oct-15', 'Nov-15', 'Dec-15', 'Jan-16', 'Feb-16', 'Mar-16', 'Apr-16', 'May-16', 'Jun-16', 'Jul-16', 'Aug-16', 'Sep-16', 'Oct-16', 'Nov-16', 'Dec-16', 'Jan-17', 'Feb-17']\n"
     ]
    }
   ],
   "source": [
    "months = list(budget.keys())\n",
    "print(months)"
   ]
  },
  {
   "cell_type": "code",
   "execution_count": 15,
   "metadata": {},
   "outputs": [
    {
     "name": "stdout",
     "output_type": "stream",
     "text": [
      "Jul-16\n"
     ]
    }
   ],
   "source": [
    "print(months[78])"
   ]
  },
  {
   "cell_type": "code",
   "execution_count": 16,
   "metadata": {},
   "outputs": [
    {
     "name": "stdout",
     "output_type": "stream",
     "text": [
      "Jan-14\n"
     ]
    }
   ],
   "source": [
    "print(months[48])"
   ]
  },
  {
   "cell_type": "code",
   "execution_count": 17,
   "metadata": {},
   "outputs": [
    {
     "name": "stdout",
     "output_type": "stream",
     "text": [
      "-1825558\n"
     ]
    }
   ],
   "source": [
    "print((profits[49] - profits[48]))"
   ]
  },
  {
   "cell_type": "code",
   "execution_count": 18,
   "metadata": {},
   "outputs": [
    {
     "name": "stdout",
     "output_type": "stream",
     "text": [
      "1862002\n"
     ]
    }
   ],
   "source": [
    "print((profits[79] - profits[78]))"
   ]
  },
  {
   "cell_type": "code",
   "execution_count": 36,
   "metadata": {},
   "outputs": [
    {
     "data": {
      "text/plain": [
       "1088983"
      ]
     },
     "execution_count": 36,
     "metadata": {},
     "output_type": "execute_result"
    }
   ],
   "source": [
    "# Define function to get Total for Profit/Loss\n",
    "def sum_of_profit(profit_loss):\n",
    "  # length = len(profit_loss)\n",
    "  total = 0\n",
    "  for val in profit_loss:\n",
    "    # total += int(val) same as total = total + int(val)\n",
    "    total = total + int(val)\n",
    "    return(total)\n",
    "# print(sum_of_profit(profit_loss))    # Output 22564198\n",
    "sum_of_profit(profit_loss)"
   ]
  },
  {
   "cell_type": "code",
   "execution_count": 37,
   "metadata": {},
   "outputs": [],
   "source": [
    "# Define function to get Average for Profit/Loss\n",
    "# def average_of_profit(profit_loss):\n",
    "    # length = len(budget)\n",
    "    # total = 0\n",
    "    # for val in profit_loss:\n",
    "        # total = total + int(val)\n",
    "    # return(total / length)\n",
    "# print(round(average_of_profit(profit_loss),3))    # Output 262374.395\n",
    "# Information of Functions found at the following site:\n",
    "# https://www.educative.io/edpresso/how-to-compute-the-sum-of-a-list-in-python\n"
   ]
  },
  {
   "cell_type": "code",
   "execution_count": 41,
   "metadata": {},
   "outputs": [
    {
     "name": "stdout",
     "output_type": "stream",
     "text": [
      "-8311.11\n"
     ]
    }
   ],
   "source": [
    "# Average of profits using function above\n",
    "def average(subtotals):\n",
    "    l = len(subtotals)\n",
    "    total_profits = 0\n",
    "    for val in subtotals:\n",
    "        total_profits = total_profits + val\n",
    "    return(total_profits / l)\n",
    "print(round(average(subtotals),2))"
   ]
  },
  {
   "cell_type": "markdown",
   "metadata": {},
   "source": [
    "def FibRecursion(profits):  \n",
    "   if n <= 1:  \n",
    "       return n  \n",
    "   else:  \n",
    "       return(FibRecursion(n-2) + FibRecursion(n-1))  \n",
    " #nterms = int(input(\"Enter the terms? \"))  # take input from the user\n",
    "  \n",
    "#if nterms <= 0:  # check if the number is valid \n",
    "   #print(\"Please enter a positive integer\")  \n",
    "#else:  \n",
    "   #print(\"Fibonacci sequence:\")  \n",
    "   for i in range(profits):  \n",
    "       print(FibRecursion(i))"
   ]
  },
  {
   "cell_type": "markdown",
   "metadata": {},
   "source": [
    "a = profits[0]\n",
    "b = profits[1]\n",
    "sum = 0\n",
    "count = 0\n",
    "while count <= len(profits):\n",
    "    sum = b - a\n",
    "    print(sum)\n",
    "    a= b\n",
    "    b = sum\n",
    "    \n",
    "\n",
    "    # print(sum)\n"
   ]
  },
  {
   "cell_type": "markdown",
   "metadata": {},
   "source": [
    "# another fibonacci sequence to try and eliminate repeating values\n",
    "def fibonacci(n, a=1, b=1):\n",
    "    if n==0:\n",
    "        return;\n",
    "    else:\n",
    "        print(a)\n",
    "        fibonaci(n-1, b, a+b)\n",
    "\n",
    "fibonacci(10)\n"
   ]
  },
  {
   "cell_type": "markdown",
   "metadata": {},
   "source": [
    "#Python program to generate Fibonacci series until 'n' value\n",
    "n = len(profits)\n",
    "a = profits[0]\n",
    "b = profits[1]\n",
    "sum = 0\n",
    "count = 1\n",
    "# print(\"Fibonacci Series : \", end = \" \")\n",
    "while(count <= n):\n",
    "  print(sum, end = \" \")\n",
    "  count += 1\n",
    "  a = b\n",
    "  b = sum\n",
    "  sum = b - a"
   ]
  },
  {
   "cell_type": "markdown",
   "metadata": {},
   "source": [
    "# Another loop using Fibonacci sequence \n",
    "a=len(profits)      #length of series\n",
    "f=profits[0]        #first element of series\n",
    "s=profits[1]        #second element of series\n",
    "if a<=0:\n",
    "    print(\"The requested series is\",f)\n",
    "else:\n",
    "    print(f,s,end=\" \")\n",
    "    for x in range(2,a):\n",
    "        next=s-f                           \n",
    "        print(next,end=\" \")\n",
    "        f=s\n",
    "        s=next"
   ]
  },
  {
   "cell_type": "markdown",
   "metadata": {},
   "source": [
    "# Define a Fibonacci series to get profit change from month to month\n",
    "    \n",
    "# count = 0\n",
    "# c1 = profits[0]\n",
    "# c2 = profits[1]\n",
    "# c3 = c2 - c1\n",
    "def profit_change(profits):\n",
    "        count = 0\n",
    "        c1 = profits[0]\n",
    "        c2 = profits[1]\n",
    "        while count <= len(profits):\n",
    "            c3 = c2 - c1\n",
    "        yield c3\n",
    "        c1 = c2\n",
    "        c2 = c3\n",
    "        count += 1\n",
    "deltas = list(profit_change(profits))\n",
    "list(deltas)\n",
    "    # print(profit_change(profit_change(range(2, 5))))\n",
    "for i in deltas:\n",
    "        print(i)\n"
   ]
  },
  {
   "cell_type": "code",
   "execution_count": null,
   "metadata": {},
   "outputs": [],
   "source": [
    "  \n",
    "    \n",
    "# Define function to get deltas from month to month and to get average\n",
    "def sum_of_deltas(budget):\n",
    "    deltas = []\n",
    "    length = len(budget)\n",
    "    delta = 0\n",
    "    while length <= len(budget):\n",
    "        # for val in budget.items():\n",
    "            #delta = int(val)+1 - int(val)\n",
    "    # return\n",
    "    # deltas.append(delta)\n",
    "    # print(deltas)\n",
    "# print(sum_of_deltas)     # Output 22564198\n",
    "    \n",
    " "
   ]
  },
  {
   "cell_type": "code",
   "execution_count": null,
   "metadata": {},
   "outputs": [],
   "source": [
    "\n",
    "    # budget = tuple(budget_reader) # tuple and dictionary information from:\n",
    "    # https://thispointer.com/python-read-csv-into-a-list-of-lists-or-tuples-or-dictionaries-import-csv-to-list/\n",
    "# type(budget)          # to confirm tuple\n",
    "# print(budget)         # second print to confirm tuple\n",
    "# print(header)         # first print to confirm reading csv file\n",
    "# print(len(budget[:])) # to get total length of tuple  #tuple information from:\n",
    "# https://www.tutorialspoint.com/python/python_tuples.htm\n",
    "# print(max(budget[:]))\n",
    "# print(min(budget[:]))\n",
    "# print(len(budget[0:]))\n",
    "# total_months = budget[0,]\n",
    "# budget = tuple(budget_reader)   # convert to a tuple so immutable and can use sequencing\n",
    "# [tuples](https://docs.python.org/3/library/stdtypes.html#typesseq)\n",
    "# print(budget[0])    # output - ['Jan-10', '1088983']\n",
    "# type(budget)      # output = tuple, when budget = tuple(budget_reader)\n",
    "# dict(budget)          # convert tuple to dictionary or just use:\n",
    "    # budget = dict(budget_reader)\n",
    "    # print(budget)\n",
    "#budget\n"
   ]
  },
  {
   "cell_type": "code",
   "execution_count": null,
   "metadata": {},
   "outputs": [],
   "source": []
  },
  {
   "cell_type": "code",
   "execution_count": null,
   "metadata": {},
   "outputs": [],
   "source": []
  },
  {
   "cell_type": "code",
   "execution_count": null,
   "metadata": {},
   "outputs": [],
   "source": [
    "# Define function to get deltas from month to month and to get average\n",
    "\n",
    "diff = []\n",
    "profit_loss=list(budget.values())\n",
    "while i < len(budget.values(i)):\n",
    "    subtotal = int(profit_loss[i+1]) - int(profit_loss[i])\n",
    "    diff.append(int(profit_loss[i]+1) - int(profit_loss[i]))\n",
    "    # total_diff(profit_loss)\n",
    "print(diff)"
   ]
  },
  {
   "cell_type": "markdown",
   "metadata": {},
   "source": [
    "def deviation(A):\n",
    "        prev = A[0]\n",
    "        for el in A:\n",
    "            yield abs(el - prev)\n",
    "            prev = el\n",
    "    #deltas"
   ]
  },
  {
   "cell_type": "markdown",
   "metadata": {},
   "source": [
    "A = [budget.values()]\n",
    "    l=[A[0]]+A\n",
    "    [abs(l[i-1]-l[i]) for i in range(1,len(l))]"
   ]
  },
  {
   "cell_type": "code",
   "execution_count": null,
   "metadata": {},
   "outputs": [],
   "source": [
    "print(list(map(sum, zip(profit_loss))))\n"
   ]
  }
 ],
 "metadata": {
  "interpreter": {
   "hash": "05e93dc6f4b40ed308aaec00c8196c9e66e08e848d1d5e061aaaa00cf4e3efac"
  },
  "kernelspec": {
   "display_name": "Python 3 (ipykernel)",
   "language": "python",
   "name": "python3"
  },
  "language_info": {
   "codemirror_mode": {
    "name": "ipython",
    "version": 3
   },
   "file_extension": ".py",
   "mimetype": "text/x-python",
   "name": "python",
   "nbconvert_exporter": "python",
   "pygments_lexer": "ipython3",
   "version": "3.9.7"
  }
 },
 "nbformat": 4,
 "nbformat_minor": 2
}
